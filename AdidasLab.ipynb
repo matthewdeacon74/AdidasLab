{
 "cells": [
  {
   "cell_type": "markdown",
   "id": "26c01a2c-2119-4427-bbfd-206cb066ee6f",
   "metadata": {},
   "source": [
    "## Import data"
   ]
  },
  {
   "cell_type": "code",
   "execution_count": 34,
   "id": "4c7d6f2a-7193-461e-bc41-7797a6819944",
   "metadata": {},
   "outputs": [],
   "source": [
    "import pandas as pd\n",
    "import seaborn as sns"
   ]
  },
  {
   "cell_type": "code",
   "execution_count": 55,
   "id": "c531b2e5-7e49-4b06-bfb1-cc7bd2e441b8",
   "metadata": {},
   "outputs": [
    {
     "data": {
      "text/html": [
       "<div>\n",
       "<style scoped>\n",
       "    .dataframe tbody tr th:only-of-type {\n",
       "        vertical-align: middle;\n",
       "    }\n",
       "\n",
       "    .dataframe tbody tr th {\n",
       "        vertical-align: top;\n",
       "    }\n",
       "\n",
       "    .dataframe thead th {\n",
       "        text-align: right;\n",
       "    }\n",
       "</style>\n",
       "<table border=\"1\" class=\"dataframe\">\n",
       "  <thead>\n",
       "    <tr style=\"text-align: right;\">\n",
       "      <th></th>\n",
       "      <th>Retailer</th>\n",
       "      <th>Retailer ID</th>\n",
       "      <th>Invoice Date</th>\n",
       "      <th>Region</th>\n",
       "      <th>State</th>\n",
       "      <th>City</th>\n",
       "      <th>Product</th>\n",
       "      <th>Price per Unit</th>\n",
       "      <th>Units Sold</th>\n",
       "      <th>Total Sales</th>\n",
       "      <th>Operating Profit</th>\n",
       "      <th>Operating Margin</th>\n",
       "      <th>Sales Method</th>\n",
       "    </tr>\n",
       "  </thead>\n",
       "  <tbody>\n",
       "    <tr>\n",
       "      <th>NaN</th>\n",
       "      <td>Foot Locker</td>\n",
       "      <td>1185732</td>\n",
       "      <td>2020-01-01</td>\n",
       "      <td>Northeast</td>\n",
       "      <td>New York</td>\n",
       "      <td>New York</td>\n",
       "      <td>Men's Street Footwear</td>\n",
       "      <td>50.0</td>\n",
       "      <td>1200</td>\n",
       "      <td>600000.0</td>\n",
       "      <td>300000.00</td>\n",
       "      <td>0.50</td>\n",
       "      <td>In-store</td>\n",
       "    </tr>\n",
       "    <tr>\n",
       "      <th>NaN</th>\n",
       "      <td>Foot Locker</td>\n",
       "      <td>1185732</td>\n",
       "      <td>2020-01-02</td>\n",
       "      <td>Northeast</td>\n",
       "      <td>New York</td>\n",
       "      <td>New York</td>\n",
       "      <td>Men's Athletic Footwear</td>\n",
       "      <td>50.0</td>\n",
       "      <td>1000</td>\n",
       "      <td>500000.0</td>\n",
       "      <td>150000.00</td>\n",
       "      <td>0.30</td>\n",
       "      <td>In-store</td>\n",
       "    </tr>\n",
       "    <tr>\n",
       "      <th>NaN</th>\n",
       "      <td>Foot Locker</td>\n",
       "      <td>1185732</td>\n",
       "      <td>2020-01-03</td>\n",
       "      <td>Northeast</td>\n",
       "      <td>New York</td>\n",
       "      <td>New York</td>\n",
       "      <td>Women's Street Footwear</td>\n",
       "      <td>40.0</td>\n",
       "      <td>1000</td>\n",
       "      <td>400000.0</td>\n",
       "      <td>140000.00</td>\n",
       "      <td>0.35</td>\n",
       "      <td>In-store</td>\n",
       "    </tr>\n",
       "    <tr>\n",
       "      <th>NaN</th>\n",
       "      <td>Foot Locker</td>\n",
       "      <td>1185732</td>\n",
       "      <td>2020-01-04</td>\n",
       "      <td>Northeast</td>\n",
       "      <td>New York</td>\n",
       "      <td>New York</td>\n",
       "      <td>Women's Athletic Footwear</td>\n",
       "      <td>45.0</td>\n",
       "      <td>850</td>\n",
       "      <td>382500.0</td>\n",
       "      <td>133875.00</td>\n",
       "      <td>0.35</td>\n",
       "      <td>In-store</td>\n",
       "    </tr>\n",
       "    <tr>\n",
       "      <th>NaN</th>\n",
       "      <td>Foot Locker</td>\n",
       "      <td>1185732</td>\n",
       "      <td>2020-01-05</td>\n",
       "      <td>Northeast</td>\n",
       "      <td>New York</td>\n",
       "      <td>New York</td>\n",
       "      <td>Men's Apparel</td>\n",
       "      <td>60.0</td>\n",
       "      <td>900</td>\n",
       "      <td>540000.0</td>\n",
       "      <td>162000.00</td>\n",
       "      <td>0.30</td>\n",
       "      <td>In-store</td>\n",
       "    </tr>\n",
       "    <tr>\n",
       "      <th>...</th>\n",
       "      <td>...</td>\n",
       "      <td>...</td>\n",
       "      <td>...</td>\n",
       "      <td>...</td>\n",
       "      <td>...</td>\n",
       "      <td>...</td>\n",
       "      <td>...</td>\n",
       "      <td>...</td>\n",
       "      <td>...</td>\n",
       "      <td>...</td>\n",
       "      <td>...</td>\n",
       "      <td>...</td>\n",
       "      <td>...</td>\n",
       "    </tr>\n",
       "    <tr>\n",
       "      <th>NaN</th>\n",
       "      <td>Foot Locker</td>\n",
       "      <td>1185732</td>\n",
       "      <td>2021-01-24</td>\n",
       "      <td>Northeast</td>\n",
       "      <td>New Hampshire</td>\n",
       "      <td>Manchester</td>\n",
       "      <td>Men's Apparel</td>\n",
       "      <td>50.0</td>\n",
       "      <td>64</td>\n",
       "      <td>3200.0</td>\n",
       "      <td>896.00</td>\n",
       "      <td>0.28</td>\n",
       "      <td>Outlet</td>\n",
       "    </tr>\n",
       "    <tr>\n",
       "      <th>NaN</th>\n",
       "      <td>Foot Locker</td>\n",
       "      <td>1185732</td>\n",
       "      <td>2021-01-24</td>\n",
       "      <td>Northeast</td>\n",
       "      <td>New Hampshire</td>\n",
       "      <td>Manchester</td>\n",
       "      <td>Women's Apparel</td>\n",
       "      <td>41.0</td>\n",
       "      <td>105</td>\n",
       "      <td>4305.0</td>\n",
       "      <td>1377.60</td>\n",
       "      <td>0.32</td>\n",
       "      <td>Outlet</td>\n",
       "    </tr>\n",
       "    <tr>\n",
       "      <th>NaN</th>\n",
       "      <td>Foot Locker</td>\n",
       "      <td>1185732</td>\n",
       "      <td>2021-02-22</td>\n",
       "      <td>Northeast</td>\n",
       "      <td>New Hampshire</td>\n",
       "      <td>Manchester</td>\n",
       "      <td>Men's Street Footwear</td>\n",
       "      <td>41.0</td>\n",
       "      <td>184</td>\n",
       "      <td>7544.0</td>\n",
       "      <td>2791.28</td>\n",
       "      <td>0.37</td>\n",
       "      <td>Outlet</td>\n",
       "    </tr>\n",
       "    <tr>\n",
       "      <th>NaN</th>\n",
       "      <td>Foot Locker</td>\n",
       "      <td>1185732</td>\n",
       "      <td>2021-02-22</td>\n",
       "      <td>Northeast</td>\n",
       "      <td>New Hampshire</td>\n",
       "      <td>Manchester</td>\n",
       "      <td>Men's Athletic Footwear</td>\n",
       "      <td>42.0</td>\n",
       "      <td>70</td>\n",
       "      <td>2940.0</td>\n",
       "      <td>1234.80</td>\n",
       "      <td>0.42</td>\n",
       "      <td>Outlet</td>\n",
       "    </tr>\n",
       "    <tr>\n",
       "      <th>NaN</th>\n",
       "      <td>Foot Locker</td>\n",
       "      <td>1185732</td>\n",
       "      <td>2021-02-22</td>\n",
       "      <td>Northeast</td>\n",
       "      <td>New Hampshire</td>\n",
       "      <td>Manchester</td>\n",
       "      <td>Women's Street Footwear</td>\n",
       "      <td>29.0</td>\n",
       "      <td>83</td>\n",
       "      <td>2407.0</td>\n",
       "      <td>649.89</td>\n",
       "      <td>0.27</td>\n",
       "      <td>Outlet</td>\n",
       "    </tr>\n",
       "  </tbody>\n",
       "</table>\n",
       "<p>9648 rows × 13 columns</p>\n",
       "</div>"
      ],
      "text/plain": [
       "        Retailer  Retailer ID Invoice Date     Region          State  \\\n",
       "NaN  Foot Locker      1185732   2020-01-01  Northeast       New York   \n",
       "NaN  Foot Locker      1185732   2020-01-02  Northeast       New York   \n",
       "NaN  Foot Locker      1185732   2020-01-03  Northeast       New York   \n",
       "NaN  Foot Locker      1185732   2020-01-04  Northeast       New York   \n",
       "NaN  Foot Locker      1185732   2020-01-05  Northeast       New York   \n",
       "..           ...          ...          ...        ...            ...   \n",
       "NaN  Foot Locker      1185732   2021-01-24  Northeast  New Hampshire   \n",
       "NaN  Foot Locker      1185732   2021-01-24  Northeast  New Hampshire   \n",
       "NaN  Foot Locker      1185732   2021-02-22  Northeast  New Hampshire   \n",
       "NaN  Foot Locker      1185732   2021-02-22  Northeast  New Hampshire   \n",
       "NaN  Foot Locker      1185732   2021-02-22  Northeast  New Hampshire   \n",
       "\n",
       "           City                    Product  Price per Unit  Units Sold  \\\n",
       "NaN    New York      Men's Street Footwear            50.0        1200   \n",
       "NaN    New York    Men's Athletic Footwear            50.0        1000   \n",
       "NaN    New York    Women's Street Footwear            40.0        1000   \n",
       "NaN    New York  Women's Athletic Footwear            45.0         850   \n",
       "NaN    New York              Men's Apparel            60.0         900   \n",
       "..          ...                        ...             ...         ...   \n",
       "NaN  Manchester              Men's Apparel            50.0          64   \n",
       "NaN  Manchester            Women's Apparel            41.0         105   \n",
       "NaN  Manchester      Men's Street Footwear            41.0         184   \n",
       "NaN  Manchester    Men's Athletic Footwear            42.0          70   \n",
       "NaN  Manchester    Women's Street Footwear            29.0          83   \n",
       "\n",
       "     Total Sales  Operating Profit  Operating Margin Sales Method  \n",
       "NaN     600000.0         300000.00              0.50     In-store  \n",
       "NaN     500000.0         150000.00              0.30     In-store  \n",
       "NaN     400000.0         140000.00              0.35     In-store  \n",
       "NaN     382500.0         133875.00              0.35     In-store  \n",
       "NaN     540000.0         162000.00              0.30     In-store  \n",
       "..           ...               ...               ...          ...  \n",
       "NaN       3200.0            896.00              0.28       Outlet  \n",
       "NaN       4305.0           1377.60              0.32       Outlet  \n",
       "NaN       7544.0           2791.28              0.37       Outlet  \n",
       "NaN       2940.0           1234.80              0.42       Outlet  \n",
       "NaN       2407.0            649.89              0.27       Outlet  \n",
       "\n",
       "[9648 rows x 13 columns]"
      ]
     },
     "execution_count": 55,
     "metadata": {},
     "output_type": "execute_result"
    }
   ],
   "source": [
    "df = pd.read_excel('Adidas US Sales Datasets.xlsx', sheet_name='Data Sales Adidas', header=4, index_col=0)\n",
    "df"
   ]
  },
  {
   "cell_type": "markdown",
   "id": "6749f500-58b4-45e3-83bf-8303875e6ea6",
   "metadata": {},
   "source": [
    "## Gather general information about data"
   ]
  },
  {
   "cell_type": "code",
   "execution_count": 36,
   "id": "48f8c712-3214-4753-9bd7-ca8c5cfe6e42",
   "metadata": {},
   "outputs": [
    {
     "name": "stdout",
     "output_type": "stream",
     "text": [
      "<class 'pandas.core.frame.DataFrame'>\n",
      "Index: 9648 entries, nan to nan\n",
      "Data columns (total 13 columns):\n",
      " #   Column            Non-Null Count  Dtype         \n",
      "---  ------            --------------  -----         \n",
      " 0   Retailer          9648 non-null   object        \n",
      " 1   Retailer ID       9648 non-null   int64         \n",
      " 2   Invoice Date      9648 non-null   datetime64[ns]\n",
      " 3   Region            9648 non-null   object        \n",
      " 4   State             9648 non-null   object        \n",
      " 5   City              9648 non-null   object        \n",
      " 6   Product           9648 non-null   object        \n",
      " 7   Price per Unit    9648 non-null   float64       \n",
      " 8   Units Sold        9648 non-null   int64         \n",
      " 9   Total Sales       9648 non-null   float64       \n",
      " 10  Operating Profit  9648 non-null   float64       \n",
      " 11  Operating Margin  9648 non-null   float64       \n",
      " 12  Sales Method      9648 non-null   object        \n",
      "dtypes: datetime64[ns](1), float64(4), int64(2), object(6)\n",
      "memory usage: 1.0+ MB\n"
     ]
    }
   ],
   "source": [
    "df.info()"
   ]
  },
  {
   "cell_type": "code",
   "execution_count": 37,
   "id": "489598eb-669a-4359-aa27-363dd6dd13bc",
   "metadata": {},
   "outputs": [
    {
     "data": {
      "text/html": [
       "<div>\n",
       "<style scoped>\n",
       "    .dataframe tbody tr th:only-of-type {\n",
       "        vertical-align: middle;\n",
       "    }\n",
       "\n",
       "    .dataframe tbody tr th {\n",
       "        vertical-align: top;\n",
       "    }\n",
       "\n",
       "    .dataframe thead th {\n",
       "        text-align: right;\n",
       "    }\n",
       "</style>\n",
       "<table border=\"1\" class=\"dataframe\">\n",
       "  <thead>\n",
       "    <tr style=\"text-align: right;\">\n",
       "      <th></th>\n",
       "      <th>Retailer ID</th>\n",
       "      <th>Invoice Date</th>\n",
       "      <th>Price per Unit</th>\n",
       "      <th>Units Sold</th>\n",
       "      <th>Total Sales</th>\n",
       "      <th>Operating Profit</th>\n",
       "      <th>Operating Margin</th>\n",
       "    </tr>\n",
       "  </thead>\n",
       "  <tbody>\n",
       "    <tr>\n",
       "      <th>count</th>\n",
       "      <td>9.648000e+03</td>\n",
       "      <td>9648</td>\n",
       "      <td>9648.000000</td>\n",
       "      <td>9648.000000</td>\n",
       "      <td>9648.000000</td>\n",
       "      <td>9648.000000</td>\n",
       "      <td>9648.000000</td>\n",
       "    </tr>\n",
       "    <tr>\n",
       "      <th>mean</th>\n",
       "      <td>1.173850e+06</td>\n",
       "      <td>2021-05-10 15:20:44.776119296</td>\n",
       "      <td>45.216625</td>\n",
       "      <td>256.930037</td>\n",
       "      <td>93273.437500</td>\n",
       "      <td>34425.244761</td>\n",
       "      <td>0.422991</td>\n",
       "    </tr>\n",
       "    <tr>\n",
       "      <th>min</th>\n",
       "      <td>1.128299e+06</td>\n",
       "      <td>2020-01-01 00:00:00</td>\n",
       "      <td>7.000000</td>\n",
       "      <td>0.000000</td>\n",
       "      <td>0.000000</td>\n",
       "      <td>0.000000</td>\n",
       "      <td>0.100000</td>\n",
       "    </tr>\n",
       "    <tr>\n",
       "      <th>25%</th>\n",
       "      <td>1.185732e+06</td>\n",
       "      <td>2021-02-17 00:00:00</td>\n",
       "      <td>35.000000</td>\n",
       "      <td>106.000000</td>\n",
       "      <td>4254.500000</td>\n",
       "      <td>1921.752500</td>\n",
       "      <td>0.350000</td>\n",
       "    </tr>\n",
       "    <tr>\n",
       "      <th>50%</th>\n",
       "      <td>1.185732e+06</td>\n",
       "      <td>2021-06-04 00:00:00</td>\n",
       "      <td>45.000000</td>\n",
       "      <td>176.000000</td>\n",
       "      <td>9576.000000</td>\n",
       "      <td>4371.420000</td>\n",
       "      <td>0.410000</td>\n",
       "    </tr>\n",
       "    <tr>\n",
       "      <th>75%</th>\n",
       "      <td>1.185732e+06</td>\n",
       "      <td>2021-09-16 00:00:00</td>\n",
       "      <td>55.000000</td>\n",
       "      <td>350.000000</td>\n",
       "      <td>150000.000000</td>\n",
       "      <td>52062.500000</td>\n",
       "      <td>0.490000</td>\n",
       "    </tr>\n",
       "    <tr>\n",
       "      <th>max</th>\n",
       "      <td>1.197831e+06</td>\n",
       "      <td>2021-12-31 00:00:00</td>\n",
       "      <td>110.000000</td>\n",
       "      <td>1275.000000</td>\n",
       "      <td>825000.000000</td>\n",
       "      <td>390000.000000</td>\n",
       "      <td>0.800000</td>\n",
       "    </tr>\n",
       "    <tr>\n",
       "      <th>std</th>\n",
       "      <td>2.636038e+04</td>\n",
       "      <td>NaN</td>\n",
       "      <td>14.705397</td>\n",
       "      <td>214.252030</td>\n",
       "      <td>141916.016727</td>\n",
       "      <td>54193.113713</td>\n",
       "      <td>0.097197</td>\n",
       "    </tr>\n",
       "  </tbody>\n",
       "</table>\n",
       "</div>"
      ],
      "text/plain": [
       "        Retailer ID                   Invoice Date  Price per Unit  \\\n",
       "count  9.648000e+03                           9648     9648.000000   \n",
       "mean   1.173850e+06  2021-05-10 15:20:44.776119296       45.216625   \n",
       "min    1.128299e+06            2020-01-01 00:00:00        7.000000   \n",
       "25%    1.185732e+06            2021-02-17 00:00:00       35.000000   \n",
       "50%    1.185732e+06            2021-06-04 00:00:00       45.000000   \n",
       "75%    1.185732e+06            2021-09-16 00:00:00       55.000000   \n",
       "max    1.197831e+06            2021-12-31 00:00:00      110.000000   \n",
       "std    2.636038e+04                            NaN       14.705397   \n",
       "\n",
       "        Units Sold    Total Sales  Operating Profit  Operating Margin  \n",
       "count  9648.000000    9648.000000       9648.000000       9648.000000  \n",
       "mean    256.930037   93273.437500      34425.244761          0.422991  \n",
       "min       0.000000       0.000000          0.000000          0.100000  \n",
       "25%     106.000000    4254.500000       1921.752500          0.350000  \n",
       "50%     176.000000    9576.000000       4371.420000          0.410000  \n",
       "75%     350.000000  150000.000000      52062.500000          0.490000  \n",
       "max    1275.000000  825000.000000     390000.000000          0.800000  \n",
       "std     214.252030  141916.016727      54193.113713          0.097197  "
      ]
     },
     "execution_count": 37,
     "metadata": {},
     "output_type": "execute_result"
    }
   ],
   "source": [
    "df.describe()"
   ]
  },
  {
   "cell_type": "markdown",
   "id": "a880cdb6-24b4-4aa4-8bd2-485682f905b9",
   "metadata": {},
   "source": [
    "## Isolate numerical column details"
   ]
  },
  {
   "cell_type": "code",
   "execution_count": 39,
   "id": "8f0f908f-6340-4058-bf38-cda24cbb6c38",
   "metadata": {},
   "outputs": [
    {
     "data": {
      "text/html": [
       "<div>\n",
       "<style scoped>\n",
       "    .dataframe tbody tr th:only-of-type {\n",
       "        vertical-align: middle;\n",
       "    }\n",
       "\n",
       "    .dataframe tbody tr th {\n",
       "        vertical-align: top;\n",
       "    }\n",
       "\n",
       "    .dataframe thead th {\n",
       "        text-align: right;\n",
       "    }\n",
       "</style>\n",
       "<table border=\"1\" class=\"dataframe\">\n",
       "  <thead>\n",
       "    <tr style=\"text-align: right;\">\n",
       "      <th></th>\n",
       "      <th>Retailer ID</th>\n",
       "      <th>Invoice Date</th>\n",
       "      <th>Price per Unit</th>\n",
       "      <th>Units Sold</th>\n",
       "      <th>Total Sales</th>\n",
       "      <th>Operating Profit</th>\n",
       "      <th>Operating Margin</th>\n",
       "    </tr>\n",
       "  </thead>\n",
       "  <tbody>\n",
       "    <tr>\n",
       "      <th>Retailer ID</th>\n",
       "      <td>1.000000</td>\n",
       "      <td>0.192523</td>\n",
       "      <td>-0.391684</td>\n",
       "      <td>-0.003194</td>\n",
       "      <td>-0.083580</td>\n",
       "      <td>-0.027137</td>\n",
       "      <td>0.216780</td>\n",
       "    </tr>\n",
       "    <tr>\n",
       "      <th>Invoice Date</th>\n",
       "      <td>0.192523</td>\n",
       "      <td>1.000000</td>\n",
       "      <td>0.053903</td>\n",
       "      <td>-0.146083</td>\n",
       "      <td>-0.069728</td>\n",
       "      <td>-0.044229</td>\n",
       "      <td>0.080338</td>\n",
       "    </tr>\n",
       "    <tr>\n",
       "      <th>Price per Unit</th>\n",
       "      <td>-0.391684</td>\n",
       "      <td>0.053903</td>\n",
       "      <td>1.000000</td>\n",
       "      <td>0.265869</td>\n",
       "      <td>0.435811</td>\n",
       "      <td>0.394546</td>\n",
       "      <td>-0.137486</td>\n",
       "    </tr>\n",
       "    <tr>\n",
       "      <th>Units Sold</th>\n",
       "      <td>-0.003194</td>\n",
       "      <td>-0.146083</td>\n",
       "      <td>0.265869</td>\n",
       "      <td>1.000000</td>\n",
       "      <td>0.913431</td>\n",
       "      <td>0.892379</td>\n",
       "      <td>-0.305479</td>\n",
       "    </tr>\n",
       "    <tr>\n",
       "      <th>Total Sales</th>\n",
       "      <td>-0.083580</td>\n",
       "      <td>-0.069728</td>\n",
       "      <td>0.435811</td>\n",
       "      <td>0.913431</td>\n",
       "      <td>1.000000</td>\n",
       "      <td>0.956307</td>\n",
       "      <td>-0.364592</td>\n",
       "    </tr>\n",
       "    <tr>\n",
       "      <th>Operating Profit</th>\n",
       "      <td>-0.027137</td>\n",
       "      <td>-0.044229</td>\n",
       "      <td>0.394546</td>\n",
       "      <td>0.892379</td>\n",
       "      <td>0.956307</td>\n",
       "      <td>1.000000</td>\n",
       "      <td>-0.211920</td>\n",
       "    </tr>\n",
       "    <tr>\n",
       "      <th>Operating Margin</th>\n",
       "      <td>0.216780</td>\n",
       "      <td>0.080338</td>\n",
       "      <td>-0.137486</td>\n",
       "      <td>-0.305479</td>\n",
       "      <td>-0.364592</td>\n",
       "      <td>-0.211920</td>\n",
       "      <td>1.000000</td>\n",
       "    </tr>\n",
       "  </tbody>\n",
       "</table>\n",
       "</div>"
      ],
      "text/plain": [
       "                  Retailer ID  Invoice Date  Price per Unit  Units Sold  \\\n",
       "Retailer ID          1.000000      0.192523       -0.391684   -0.003194   \n",
       "Invoice Date         0.192523      1.000000        0.053903   -0.146083   \n",
       "Price per Unit      -0.391684      0.053903        1.000000    0.265869   \n",
       "Units Sold          -0.003194     -0.146083        0.265869    1.000000   \n",
       "Total Sales         -0.083580     -0.069728        0.435811    0.913431   \n",
       "Operating Profit    -0.027137     -0.044229        0.394546    0.892379   \n",
       "Operating Margin     0.216780      0.080338       -0.137486   -0.305479   \n",
       "\n",
       "                  Total Sales  Operating Profit  Operating Margin  \n",
       "Retailer ID         -0.083580         -0.027137          0.216780  \n",
       "Invoice Date        -0.069728         -0.044229          0.080338  \n",
       "Price per Unit       0.435811          0.394546         -0.137486  \n",
       "Units Sold           0.913431          0.892379         -0.305479  \n",
       "Total Sales          1.000000          0.956307         -0.364592  \n",
       "Operating Profit     0.956307          1.000000         -0.211920  \n",
       "Operating Margin    -0.364592         -0.211920          1.000000  "
      ]
     },
     "execution_count": 39,
     "metadata": {},
     "output_type": "execute_result"
    }
   ],
   "source": [
    "numeric_cols = df.describe().columns\n",
    "df[numeric_cols].corr()"
   ]
  },
  {
   "cell_type": "markdown",
   "id": "d17e6721-3d72-4ff0-b95c-28066d327a2c",
   "metadata": {},
   "source": [
    "Strong correlations exist between Total Sales, Units Sold, & Operating Profit"
   ]
  },
  {
   "cell_type": "markdown",
   "id": "802cc37b-ce88-480d-ade5-c8bcc1b1daa1",
   "metadata": {},
   "source": [
    "## Collect categorical columns"
   ]
  },
  {
   "cell_type": "code",
   "execution_count": 40,
   "id": "286837dc-f1e6-437c-8fec-287aa6aad6c6",
   "metadata": {},
   "outputs": [
    {
     "data": {
      "text/plain": [
       "['Retailer', 'Region', 'State', 'City', 'Product', 'Sales Method']"
      ]
     },
     "execution_count": 40,
     "metadata": {},
     "output_type": "execute_result"
    }
   ],
   "source": [
    "categorical_cols = [col for col in df.columns if col not in numeric_cols]\n",
    "categorical_cols"
   ]
  },
  {
   "cell_type": "markdown",
   "id": "aaa5cc7a-50eb-4678-8030-5f607b3e5ef9",
   "metadata": {},
   "source": [
    "### Summarize values in categorical columns"
   ]
  },
  {
   "cell_type": "code",
   "execution_count": 41,
   "id": "c95368ba-9b63-4de3-a2e9-a5a3528b2f94",
   "metadata": {},
   "outputs": [
    {
     "name": "stdout",
     "output_type": "stream",
     "text": [
      "Retailer: Foot Locker, Walmart, Sports Direct, West Gear, Kohl's, Amazon\n",
      "\n",
      "Region: Northeast, South, West, Midwest, Southeast\n",
      "\n",
      "State: New York, Texas, California, Illinois, Pennsylvania, Nevada, Colorado, Washington, Florida, Minnesota, Montana, Tennessee, Nebraska, Alabama, Maine, Alaska, Hawaii, Wyoming, Virginia, Michigan, Missouri, Utah, Oregon, Louisiana, Idaho, Arizona, New Mexico, Georgia, South Carolina, North Carolina, Ohio, Kentucky, Mississippi, Arkansas, Oklahoma, Kansas, South Dakota, North Dakota, Iowa, Wisconsin, Indiana, West Virginia, Maryland, Delaware, New Jersey, Connecticut, Rhode Island, Massachusetts, Vermont, New Hampshire\n",
      "\n",
      "City: New York, Houston, San Francisco, Los Angeles, Chicago, Dallas, Philadelphia, Las Vegas, Denver, Seattle, Miami, Minneapolis, Billings, Knoxville, Omaha, Birmingham, Portland, Anchorage, Honolulu, Orlando, Albany, Cheyenne, Richmond, Detroit, St. Louis, Salt Lake City, New Orleans, Boise, Phoenix, Albuquerque, Atlanta, Charleston, Charlotte, Columbus, Louisville, Jackson, Little Rock, Oklahoma City, Wichita, Sioux Falls, Fargo, Des Moines, Milwaukee, Indianapolis, Baltimore, Wilmington, Newark, Hartford, Providence, Boston, Burlington, Manchester\n",
      "\n",
      "Product: Men's Street Footwear, Men's Athletic Footwear, Women's Street Footwear, Women's Athletic Footwear, Men's Apparel, Women's Apparel\n",
      "\n",
      "Sales Method: In-store, Outlet, Online\n",
      "\n"
     ]
    }
   ],
   "source": [
    "for col in categorical_cols:\n",
    "    print(f'{col}: {\", \".join(df[col].unique())}')\n",
    "    print()"
   ]
  },
  {
   "cell_type": "markdown",
   "id": "18ee2991-2d4a-4fa9-9bb3-7370da3564aa",
   "metadata": {},
   "source": [
    "## Avg price per unit and units sold by product category"
   ]
  },
  {
   "cell_type": "code",
   "execution_count": 42,
   "id": "8f9fbb09-f902-4bce-9d8a-2979b25161c8",
   "metadata": {},
   "outputs": [
    {
     "data": {
      "text/html": [
       "<div>\n",
       "<style scoped>\n",
       "    .dataframe tbody tr th:only-of-type {\n",
       "        vertical-align: middle;\n",
       "    }\n",
       "\n",
       "    .dataframe tbody tr th {\n",
       "        vertical-align: top;\n",
       "    }\n",
       "\n",
       "    .dataframe thead th {\n",
       "        text-align: right;\n",
       "    }\n",
       "</style>\n",
       "<table border=\"1\" class=\"dataframe\">\n",
       "  <thead>\n",
       "    <tr style=\"text-align: right;\">\n",
       "      <th></th>\n",
       "      <th>Price per Unit</th>\n",
       "      <th>Units Sold</th>\n",
       "    </tr>\n",
       "    <tr>\n",
       "      <th>Product</th>\n",
       "      <th></th>\n",
       "      <th></th>\n",
       "    </tr>\n",
       "  </thead>\n",
       "  <tbody>\n",
       "    <tr>\n",
       "      <th>Men's Apparel</th>\n",
       "      <td>50.321918</td>\n",
       "      <td>190.960772</td>\n",
       "    </tr>\n",
       "    <tr>\n",
       "      <th>Men's Athletic Footwear</th>\n",
       "      <td>43.779503</td>\n",
       "      <td>270.513043</td>\n",
       "    </tr>\n",
       "    <tr>\n",
       "      <th>Men's Street Footwear</th>\n",
       "      <td>44.236646</td>\n",
       "      <td>368.521739</td>\n",
       "    </tr>\n",
       "    <tr>\n",
       "      <th>Women's Apparel</th>\n",
       "      <td>51.600746</td>\n",
       "      <td>269.792910</td>\n",
       "    </tr>\n",
       "    <tr>\n",
       "      <th>Women's Athletic Footwear</th>\n",
       "      <td>41.112702</td>\n",
       "      <td>197.531756</td>\n",
       "    </tr>\n",
       "    <tr>\n",
       "      <th>Women's Street Footwear</th>\n",
       "      <td>40.252488</td>\n",
       "      <td>243.948383</td>\n",
       "    </tr>\n",
       "  </tbody>\n",
       "</table>\n",
       "</div>"
      ],
      "text/plain": [
       "                           Price per Unit  Units Sold\n",
       "Product                                              \n",
       "Men's Apparel                   50.321918  190.960772\n",
       "Men's Athletic Footwear         43.779503  270.513043\n",
       "Men's Street Footwear           44.236646  368.521739\n",
       "Women's Apparel                 51.600746  269.792910\n",
       "Women's Athletic Footwear       41.112702  197.531756\n",
       "Women's Street Footwear         40.252488  243.948383"
      ]
     },
     "execution_count": 42,
     "metadata": {},
     "output_type": "execute_result"
    }
   ],
   "source": [
    "df.groupby(['Product'])[['Price per Unit', 'Units Sold']].mean()"
   ]
  },
  {
   "cell_type": "markdown",
   "id": "d3d73813-a5f7-4cc2-a3e1-4a7fa918de48",
   "metadata": {},
   "source": [
    "## Total Sales by Price Per Unit"
   ]
  },
  {
   "cell_type": "code",
   "execution_count": 43,
   "id": "c0f0141f-fcba-4657-8bc7-d9c7336f58bc",
   "metadata": {},
   "outputs": [
    {
     "data": {
      "text/plain": [
       "<Axes: xlabel='Price per Unit', ylabel='Total Sales'>"
      ]
     },
     "execution_count": 43,
     "metadata": {},
     "output_type": "execute_result"
    },
    {
     "data": {
      "image/png": "[encoded data removed]",
      "text/plain": [
       "<Figure size 640x480 with 1 Axes>"
      ]
     },
     "metadata": {},
     "output_type": "display_data"
    }
   ],
   "source": [
    "sns.scatterplot(data=df, x='Price per Unit', y='Total Sales')"
   ]
  },
  {
   "cell_type": "markdown",
   "id": "014b360e-6677-4e7f-9b8b-35653e950b13",
   "metadata": {},
   "source": [
    "## Total Sales by Retailer Per Region"
   ]
  },
  {
   "cell_type": "code",
   "execution_count": 44,
   "id": "61bb92b7-df4f-45cf-973b-b8db488b0d1d",
   "metadata": {},
   "outputs": [
    {
     "data": {
      "text/plain": [
       "<Axes: xlabel='Retailer', ylabel='Total Sales'>"
      ]
     },
     "execution_count": 44,
     "metadata": {},
     "output_type": "execute_result"
    },
    {
     "data": {
      "image/png": "[encoded data removed]",
      "text/plain": [
       "<Figure size 640x480 with 1 Axes>"
      ]
     },
     "metadata": {},
     "output_type": "display_data"
    }
   ],
   "source": [
    "sns.barplot(data=df, x='Retailer', y='Total Sales', hue='Region')"
   ]
  },
  {
   "cell_type": "markdown",
   "id": "9296391b-154b-4d2e-b162-c77684e05598",
   "metadata": {},
   "source": []
  },
  {
   "cell_type": "markdown",
   "id": "11a9475c-de2b-4f54-b662-d2cd223072df",
   "metadata": {},
   "source": [
    "## Distribution of unit sales by source"
   ]
  },
  {
   "cell_type": "code",
   "execution_count": 45,
   "id": "681733e8-ac56-4bb2-a488-dc9550602dc0",
   "metadata": {},
   "outputs": [
    {
     "data": {
      "text/plain": [
       "<Axes: xlabel='Sales Method', ylabel='Units Sold'>"
      ]
     },
     "execution_count": 45,
     "metadata": {},
     "output_type": "execute_result"
    },
    {
     "data": {
      "image/png": "[encoded data removed]",
      "text/plain": [
       "<Figure size 640x480 with 1 Axes>"
      ]
     },
     "metadata": {},
     "output_type": "display_data"
    }
   ],
   "source": [
    "sns.boxplot(data=df, x='Sales Method', y='Units Sold')"
   ]
  },
  {
   "cell_type": "code",
   "execution_count": 46,
   "id": "aaf2f579-78bc-4380-bcc8-9dbde66b6615",
   "metadata": {},
   "outputs": [
    {
     "data": {
      "text/plain": [
       "<Axes: xlabel='Sales Method', ylabel='count'>"
      ]
     },
     "execution_count": 46,
     "metadata": {},
     "output_type": "execute_result"
    },
    {
     "data": {
      "image/png": "[encoded data removed]",
      "text/plain": [
       "<Figure size 640x480 with 1 Axes>"
      ]
     },
     "metadata": {},
     "output_type": "display_data"
    }
   ],
   "source": [
    "sns.countplot(data=df, x='Sales Method')"
   ]
  },
  {
   "cell_type": "markdown",
   "id": "3813480b-64ca-4297-8be2-7159acdb4cc8",
   "metadata": {},
   "source": [
    "## Most Profitable Cities"
   ]
  },
  {
   "cell_type": "code",
   "execution_count": 48,
   "id": "5c4f2915-7ed5-4749-8743-562d34ede374",
   "metadata": {},
   "outputs": [
    {
     "data": {
      "text/plain": [
       "City\n",
       "Charleston       15607190.11\n",
       "New York         13899973.16\n",
       "Miami            12168619.11\n",
       "Portland         10760799.37\n",
       "San Francisco    10256249.56\n",
       "Houston           9845141.06\n",
       "Charlotte         9756422.87\n",
       "Albany            9429850.91\n",
       "New Orleans       9417233.49\n",
       "Birmingham        9147581.39\n",
       "Name: Operating Profit, dtype: float64"
      ]
     },
     "execution_count": 48,
     "metadata": {},
     "output_type": "execute_result"
    }
   ],
   "source": [
    "cities_by_profit = df.groupby(['City'])['Operating Profit'].sum().sort_values(ascending=False)\n",
    "cities_by_profit[:10]"
   ]
  },
  {
   "cell_type": "markdown",
   "id": "57a4d841-23a3-4bff-bd25-26052f80c1b2",
   "metadata": {},
   "source": [
    "## Least Profitable Cities"
   ]
  },
  {
   "cell_type": "code",
   "execution_count": 49,
   "id": "5fd9a8b8-6854-4a74-bdf9-ecea19aa139c",
   "metadata": {},
   "outputs": [
    {
     "data": {
      "text/plain": [
       "City\n",
       "Baltimore      2757642.12\n",
       "Fargo          2688519.72\n",
       "Minneapolis    2670229.76\n",
       "Des Moines     2655217.37\n",
       "Omaha          2439478.41\n",
       "Name: Operating Profit, dtype: float64"
      ]
     },
     "execution_count": 49,
     "metadata": {},
     "output_type": "execute_result"
    }
   ],
   "source": [
    "cities_by_profit[-5:]"
   ]
  },
  {
   "cell_type": "code",
   "execution_count": null,
   "id": "2a047af0-8aea-4bd5-b2c1-ac15fd5e9814",
   "metadata": {},
   "outputs": [],
   "source": []
  }
 ],
 "metadata": {
  "kernelspec": {
   "display_name": "Python 3 (ipykernel)",
   "language": "python",
   "name": "python3"
  },
  "language_info": {
   "codemirror_mode": {
    "name": "ipython",
    "version": 3
   },
   "file_extension": ".py",
   "mimetype": "text/x-python",
   "name": "python",
   "nbconvert_exporter": "python",
   "pygments_lexer": "ipython3",
   "version": "3.11.7"
  }
 },
 "nbformat": 4,
 "nbformat_minor": 5
}
